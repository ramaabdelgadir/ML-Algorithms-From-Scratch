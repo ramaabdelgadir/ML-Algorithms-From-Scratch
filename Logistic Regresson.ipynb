{
 "cells": [
  {
   "cell_type": "code",
   "execution_count": 50,
   "id": "fb665a51",
   "metadata": {},
   "outputs": [],
   "source": [
    "import numpy as np\n",
    "import matplotlib.pyplot as plt\n",
    "from sklearn.datasets import load_breast_cancer\n",
    "from sklearn.model_selection import train_test_split\n",
    "from sklearn.preprocessing import StandardScaler\n",
    "from sklearn.linear_model import LogisticRegression\n",
    "from sklearn.metrics import accuracy_score"
   ]
  },
  {
   "cell_type": "markdown",
   "id": "c69d5509",
   "metadata": {},
   "source": [
    "## 📥 Load and Prepare the Dataset"
   ]
  },
  {
   "cell_type": "code",
   "execution_count": 51,
   "id": "93dc5a32",
   "metadata": {},
   "outputs": [],
   "source": [
    "data = load_breast_cancer()\n",
    "X, y = data.data, data.target"
   ]
  },
  {
   "cell_type": "markdown",
   "id": "0bac3866",
   "metadata": {},
   "source": [
    "### Feature Scaling"
   ]
  },
  {
   "cell_type": "code",
   "execution_count": 52,
   "id": "ce32e7fe",
   "metadata": {},
   "outputs": [],
   "source": [
    "scaler = StandardScaler()\n",
    "X_scaled = scaler.fit_transform(X)"
   ]
  },
  {
   "cell_type": "markdown",
   "id": "91a7f11c",
   "metadata": {},
   "source": [
    "#### Train-Test Split"
   ]
  },
  {
   "cell_type": "code",
   "execution_count": 53,
   "id": "81ed5e9d",
   "metadata": {},
   "outputs": [],
   "source": [
    "X_train, X_test, y_train, y_test = train_test_split(X_scaled, y, test_size=0.2, random_state=42)"
   ]
  },
  {
   "cell_type": "markdown",
   "id": "9dd042a0",
   "metadata": {},
   "source": [
    "## ⚙️ Building a Custom Logistic Regression Model\n",
    "\n",
    "#### Steps to Train the Model\n",
    "\n",
    "1. **Initialize parameters**  \n",
    "   Set weights `w` and bias `b` to zero.\n",
    "\n",
    "2. 🔁 **Repeat for a number of iterations**  \n",
    "   For each iteration:\n",
    "   \n",
    "   - **Make predictions** using the sigmoid function:  \n",
    "     `y_pred = sigmoid(X · w + b)`\n",
    "   \n",
    "   - ❌ **Calculate error**  \n",
    "     `error = y_pred - y` (difference between prediction and actual labels)\n",
    "   \n",
    "   - **Compute gradients (with L2 regularization => to prevent overfitting )**  \n",
    "     - `dw = (1/m) * (Xᵗ · error) + (λ/m) * w`  \n",
    "     - `db = (1/m) * sum(error)`\n",
    "   \n",
    "   - 🛠️ **Update the weights and bias**  \n",
    "     - `w = w - learning_rate × dw`  \n",
    "     - `b = b - learning_rate × db`\n",
    "\n",
    "3. ✅ **Make predictions after training**  \n",
    "   - `predict_proba(X)` → returns probabilities  \n",
    "   - `predict(X)` → returns 0 or 1 based on threshold (default 0.5)"
   ]
  },
  {
   "cell_type": "code",
   "execution_count": 54,
   "id": "4ed57ea3",
   "metadata": {},
   "outputs": [],
   "source": [
    "class CustomLogisticRegression:\n",
    "    def __init__(self, learning_rate=0.01, iterations=5000, lamda=0.1):\n",
    "        self.learning_rate = learning_rate\n",
    "        self.iterations = iterations\n",
    "        self.lamda = lamda\n",
    "        self.w = None\n",
    "        self.b = None\n",
    "        self.costs = []\n",
    "\n",
    "    def sigmoid(self, z):\n",
    "        return 1 / (1 + np.exp(-z))\n",
    "\n",
    "    def compute_gradient_regularized(self, X, y, w, b, lamda):\n",
    "        m = X.shape[0]\n",
    "        z = X.dot(w) + b\n",
    "        y_pred = self.sigmoid(z)\n",
    "        err = y_pred - y\n",
    "        dw = (1/m) * (X.T.dot(err)) + (lamda/m)*w\n",
    "        db = (1/m) * np.sum(err)\n",
    "        return dw, db\n",
    "\n",
    "    def fit(self, X, y):\n",
    "        m, n = X.shape\n",
    "        self.w = np.zeros(n)\n",
    "        self.b = 0.0\n",
    "\n",
    "        for i in range(self.iterations):\n",
    "            dw, db = self.compute_gradient_regularized(X, y, self.w, self.b, self.lamda)\n",
    "            self.w -= self.learning_rate * dw\n",
    "            self.b -= self.learning_rate * db\n",
    "\n",
    "    def predict_proba(self, X):\n",
    "        return self.sigmoid(X.dot(self.w) + self.b)\n",
    "\n",
    "    def predict(self, X):\n",
    "        return (self.predict_proba(X) >= 0.5).astype(int)"
   ]
  },
  {
   "cell_type": "markdown",
   "id": "6bfead1e",
   "metadata": {},
   "source": [
    "### 🏋️ Train Custom Model"
   ]
  },
  {
   "cell_type": "code",
   "execution_count": 55,
   "id": "56d787c5",
   "metadata": {},
   "outputs": [],
   "source": [
    "custom_model = CustomLogisticRegression()\n",
    "custom_model.fit(X_train, y_train)\n",
    "y_pred_custom = custom_model.predict(X_test)"
   ]
  },
  {
   "cell_type": "markdown",
   "id": "c2ba2ca3",
   "metadata": {},
   "source": [
    "### 🤖 Train Sklearn Model"
   ]
  },
  {
   "cell_type": "code",
   "execution_count": 56,
   "id": "d4ae5306",
   "metadata": {},
   "outputs": [],
   "source": [
    "sklearn_clf = LogisticRegression()\n",
    "sklearn_clf.fit(X_train, y_train)\n",
    "y_pred_sk = sklearn_clf.predict(X_test)"
   ]
  },
  {
   "cell_type": "markdown",
   "id": "5888a3d2",
   "metadata": {},
   "source": [
    "### ✅ Models Evaluation"
   ]
  },
  {
   "cell_type": "code",
   "execution_count": 57,
   "id": "95d9faee",
   "metadata": {},
   "outputs": [
    {
     "name": "stdout",
     "output_type": "stream",
     "text": [
      "Custom Model Accuracy:   0.9824561403508771\n",
      "Sklearn Model Accuracy:  0.9736842105263158\n"
     ]
    }
   ],
   "source": [
    "print(\"Custom Model Accuracy:  \", accuracy_score(y_test, y_pred_custom))\n",
    "print(\"Sklearn Model Accuracy: \", accuracy_score(y_test, y_pred_sk))"
   ]
  }
 ],
 "metadata": {
  "kernelspec": {
   "display_name": "base",
   "language": "python",
   "name": "python3"
  },
  "language_info": {
   "codemirror_mode": {
    "name": "ipython",
    "version": 3
   },
   "file_extension": ".py",
   "mimetype": "text/x-python",
   "name": "python",
   "nbconvert_exporter": "python",
   "pygments_lexer": "ipython3",
   "version": "3.11.7"
  }
 },
 "nbformat": 4,
 "nbformat_minor": 5
}
